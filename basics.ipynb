{
  "nbformat": 4,
  "nbformat_minor": 0,
  "metadata": {
    "colab": {
      "name": "basics.ipynb",
      "provenance": [],
      "collapsed_sections": [],
      "include_colab_link": true
    },
    "kernelspec": {
      "name": "python3",
      "display_name": "Python 3"
    },
    "language_info": {
      "name": "python"
    }
  },
  "cells": [
    {
      "cell_type": "markdown",
      "metadata": {
        "id": "view-in-github",
        "colab_type": "text"
      },
      "source": [
        "<a href=\"https://colab.research.google.com/github/Stray-God/python/blob/main/basics.ipynb\" target=\"_parent\"><img src=\"https://colab.research.google.com/assets/colab-badge.svg\" alt=\"Open In Colab\"/></a>"
      ]
    },
    {
      "cell_type": "markdown",
      "source": [
        "**Variables Declaration**\n",
        "\n",
        "In python we can declare variables \n",
        "\n",
        "a,b,c = 1,2,3 \n",
        "\n",
        "where a value is 1 , b is 2 , c is 3.\n",
        "\n",
        "\n",
        "where as in C it's not possible:\n",
        "\n",
        "int a,b,c = 1,2,3 ;    ~ ERROR\n",
        "\n",
        "int a,b,c = (1,2,3) ;   ~ a=0 , b=0 , c =3 "
      ],
      "metadata": {
        "id": "dbcSihjSy71y"
      }
    },
    {
      "cell_type": "markdown",
      "source": [
        "**Key differences in assigning variables**\n",
        "\n",
        "Int , float , str , boolean are immutable in Python \n",
        "\n",
        "[ below is the ex ]\n",
        "\n",
        "In python \n",
        "\n",
        "a = 2\n",
        "b = a\n",
        "a = 4\n",
        "print ( a ,b)  ~ a = 4, b = 2\n",
        "\n",
        "In C\n",
        "\n",
        "if we try to assign new value to same variable it prints error due to redefinition"
      ],
      "metadata": {
        "id": "yiHbNJxBzG5R"
      }
    },
    {
      "cell_type": "markdown",
      "source": [
        "**CHAR & STR DIFF**\n",
        "\n",
        "In python we can declare string and char with both \n",
        "\n",
        "a = 'ram' or a = \" ram\"\n",
        "\n",
        "a = 'r' or a = \"r\"\n",
        "\n",
        "where as in c \n",
        "\n",
        "char a = 'r' ;\n",
        "\n",
        "and \n",
        "\n",
        "char a[ ] = \"ram\" ;"
      ],
      "metadata": {
        "id": "Ky-nO3qb3k9v"
      }
    },
    {
      "cell_type": "markdown",
      "source": [
        "**DATA TYPES**\n",
        "\n",
        "int\n",
        "\n",
        "float\n",
        "\n",
        "Boolean - True & False ( capital T & F )\n",
        "\n",
        "str\n",
        "\n",
        "None ( Capital N )\n",
        "\n",
        "list -   x = [\"apple\", \"banana\", \"cherry\"]\n",
        "\n",
        "tuple -  x = (\"apple\", \"banana\", \"cherry\")\n",
        "\n",
        "set -   x = {\"apple\", \"banana\", \"cherry\"}\n",
        "\n",
        "dictionary -    x = {\"name\" : \"John\", \"age\" : 36}"
      ],
      "metadata": {
        "id": "oeqmimGq4i_L"
      }
    },
    {
      "cell_type": "markdown",
      "source": [
        "**List - (mutable) and Tuple - (Immutable) data type**\n",
        "\n",
        "a= 1,2,3,'row' \n",
        "\n",
        "print (type(a))  ~ tuple\n",
        "\n",
        "print(a)  ~ ( 1, 2, 3 , 'row' )\n",
        "\n",
        "\n",
        "---\n",
        "\n",
        "\n",
        "\n",
        "a= ( 1,2,3,'romw' )\n",
        "\n",
        "print (type(a))  ~ tuple\n",
        "\n",
        "print(a) ~ ( 1, 2, 3 , 'row' )\n",
        "\n",
        "\n",
        "---\n",
        "\n",
        "\n",
        "\n",
        "a= [1,2,3,'row']\n",
        "\n",
        "print (type(a))   ~ list\n",
        "\n",
        "print(a)     ~ [1,2,3,'row']"
      ],
      "metadata": {
        "id": "-mwED9PI4ixf"
      }
    },
    {
      "cell_type": "markdown",
      "source": [
        "\n",
        "**Set data type**\n",
        "\n",
        "Collection of elements and doesn't prints duplicate elements \n",
        " prints in unorder ( diff can be found when taken more elements )\n",
        "\n",
        "\n",
        "---\n",
        "\n",
        "\n",
        "\n",
        "a= { 1,2,3,'row' ,1 }\n",
        "\n",
        "print (type(a)) ~ set\n",
        "\n",
        "print(a)  ~  { 1,2,3,'row'  }\n",
        "\n",
        "\n",
        "\n",
        "---\n",
        "\n",
        "\n",
        "a= {1,2,3,'row' ,1 , 7 ,6,9,4,89,67,68,8543,}\n",
        "\n",
        "print (type(a)) ~ set\n",
        "\n",
        "print(a) ~  { 1 , 2 , 3 , 4 , 67 ,6 . . . . }"
      ],
      "metadata": {
        "id": "xjaBn8VL4iqX"
      }
    },
    {
      "cell_type": "markdown",
      "source": [
        "**OPERATORS**\n",
        "\n",
        "Arithmetic  : + , - , * , / , // , % , **\n",
        "\n",
        "/ - gives answer in decimal (7/3 = 2.3)\n",
        "\n",
        "// - gives 7/3 = 2 \n",
        "\n",
        "** - power or exponent\n",
        "______________________________________________________________\n",
        "Relation or Comparison : #prints True or False \n",
        "\n",
        "   [  > , >= , < , <= , == , !=  ]\n",
        "______________________________________________________________\n",
        "Logical :\n",
        "\n",
        "and (&&) , or ( || ) , not [ ! (||) ]\n",
        "\n",
        "~same as C \n",
        "\n",
        "~ output will be True or False\n",
        "______________________________________________________________\n",
        "Assignment :\n",
        "\n",
        "[ = , += , -=  ]\n",
        "______________________________________________________________\n",
        "Unary operation :\n",
        "\n",
        "-a , +a\n",
        "\n",
        "a=10  \n",
        "\n",
        "print (-a)   ~  -10\n",
        "______________________________________________________________\n",
        "Bitwise operator\n",
        " \n",
        "& , | , << , >> , ^ , ~\n",
        "______________________________________________________________\n",
        "Membership operators :\n",
        "\n",
        "in , not in\n",
        "______________________________________________________________\n",
        "\n",
        "Identity operators :\n",
        "\n",
        "is , is not\n",
        "______________________________________________________________\n"
      ],
      "metadata": {
        "id": "X5xUwVYj6Bc0"
      }
    },
    {
      "cell_type": "markdown",
      "source": [
        "***STRINGS***\n",
        "\n",
        "Strings are Arrays\n",
        "Like many other popular programming languages, strings in Python are arrays of bytes representing Unicode characters.\n",
        "\n",
        "However, Python does not have a character data type, a single character is simply a string with a length of 1.\n",
        "\n",
        "Square brackets can be used to access elements of the string.\n",
        "\n",
        "Example\n",
        "\n",
        "a = \"Hello, World!\"\n",
        "\n",
        "print(a[1])  ~  e\n",
        "\n",
        "_____________________________________________________________________________\n",
        "\n",
        "String Length :\n",
        "\n",
        " len()\n",
        "\n",
        "\n",
        "To check if a certain phrase or character is present in a string, we can use the keyword ' in '  ~ Tells True or False\n",
        "\n",
        "Can also use in ' if ' statement"
      ],
      "metadata": {
        "id": "kL3H0ISe6BaO"
      }
    },
    {
      "cell_type": "markdown",
      "source": [
        "**INPUT & OUTPUT**\n",
        "\n",
        "a = input ( ) \n",
        "\n",
        "print ( a )   \n",
        "______________________________________________________________\n",
        "\n",
        "a = input ( ' enter a number ' )\n",
        "\n",
        "______________________________________________________________\n",
        "\n",
        "input statement takes any value as string :\n",
        "\n",
        "a = int ( input ( ' enter a number ' ) )\n",
        "______________________________________________________________\n",
        "\n",
        "Printing statement with a message :\n",
        "\n",
        "a = float (input (\"enter \" ))\n",
        "\n",
        "b = float (input (\"enter \" ))\n",
        "\n",
        "c = a+b\n",
        "\n",
        "print ('sum of' ,a ,'and', b ,'is' ,c)\n",
        "______________________________________________________________\n",
        "\n",
        "sep is seperator\n",
        "\n",
        "a = float (input (\"enter \" ))\n",
        "\n",
        "b = float (input (\"enter \" ))\n",
        "\n",
        "c = a+b\n",
        "\n",
        "\n",
        "print ('sum of' ,a ,'and', b ,'is' ,c,sep='.')  \n",
        "\n",
        "~ replaces , with .\n",
        "______________________________________________________________\n",
        "\n",
        "print statement don't need \\n\n",
        "\n",
        "print ( ' hi ' )\n",
        "\n",
        "print ( ' op ' )\n",
        "\n",
        "~ hi\n",
        "\n",
        "op\n",
        "______________________________________________________________\n",
        "\n",
        "to print without gap in ' + ' is used instead of ' , '\n",
        "\n",
        "' + ' can only be used on strings\n",
        "\n",
        "a =  int (input (\"enter \" )) ~ error\n",
        "\n",
        "a =  (input (\"enter \" )) ~ no error bcz the entered value becomes string by default input statement \n",
        "______________________________________________________________"
      ],
      "metadata": {
        "id": "m-mr1nN86BXH"
      }
    },
    {
      "cell_type": "markdown",
      "source": [
        "**KEY WORDS**\n",
        "\n",
        "Keywords are case sensitive . \n",
        "\n",
        "True , False , None - 1st letter is upper case .\n",
        "\n",
        "\" else if \" is simplified as \" elif \" .\n",
        "\n",
        "and - && in C\n",
        "\n",
        "or - || in C\n",
        "\n",
        "not - ! in C\n",
        "\n",
        "is - = ( Equal to ) ; a = 10 ,b=7 print ( a is b ) ~ False\n",
        "\n",
        "in - tells wheather the number is in given data ( True or False ) a= [ 1 , 4 , 5 ] printf ( 1 in a )\n",
        "~ True\n",
        "\n",
        "yield - same as return in c but helps in returning more than one value\n",
        "\n",
        "try , except , finally , raise , assert - exception functions\n",
        "\n",
        "import - helps in modules\n",
        "\n",
        "from - imports one function / library from modules\n",
        "\n",
        "as - alternative name for module ex: import math as m\n",
        "\n",
        "def - user defined functions\n",
        "\n",
        "lamda - anonymous functions\n"
      ],
      "metadata": {
        "id": "p8GYN8iE88VJ"
      }
    },
    {
      "cell_type": "code",
      "source": [
        "#To print random numbers\n",
        "import random\n",
        "\n",
        "print(random.randrange(1,10))"
      ],
      "metadata": {
        "id": "0cIr7aAm9OtR"
      },
      "execution_count": null,
      "outputs": []
    },
    {
      "cell_type": "markdown",
      "source": [
        "**SYNTAX**\n",
        "\n",
        "Python will give you an error if you skip the indentation:\n",
        "\n",
        "The number of spaces is up to you as a programmer, the most common use is four, but it has to be at least one.\n",
        "\n",
        "You have to use the same number of spaces in the same block of code, otherwise Python will give you an error:"
      ],
      "metadata": {
        "id": "IKZHPKK388Hp"
      }
    },
    {
      "cell_type": "markdown",
      "source": [
        "**SLICING**\n",
        "\n",
        "Slicing\n",
        "You can return a range of characters by using the slice syntax.\n",
        "\n",
        "Specify the start index and the end index, separated by a colon, to return a part of the string.\n",
        "\n",
        "Example\n",
        "Get the characters from position 2 to position 5 (not included):\n",
        "\n",
        "b = \"Hello, World!\"\n",
        "\n",
        "print(b[2:5])  ~ llo\n",
        "\n",
        "print(b[:5]) ~ Hello\n",
        "\n",
        "print(b[2:]) ~ llo, World!\n",
        "\n",
        "Negative Indexing \n",
        "\n",
        "Use negative indexes to start the slice from the end of the string:\n",
        "\n",
        "Example\n",
        "\n",
        "-2 is not included\n",
        "\n",
        "kow - w is -1 , 0 is -2 , .....\n",
        "\n",
        "b = \"Hello, World!\" \n",
        " \n",
        "print(b[-5:-2])  ~ orl\n",
        "\n",
        "if -2:-5 ( Wrong )\n",
        "_________________________________________________________________\n",
        "b = \"lowsd\"\n",
        "\n",
        "print(b[::-1])\n",
        "\n",
        "( start:stop:step )"
      ],
      "metadata": {
        "id": "wqzDQ3Zi87_Z"
      }
    },
    {
      "cell_type": "markdown",
      "source": [
        "**FORMAT**\n",
        "\n",
        "Use the format() method to insert numbers into strings:\n",
        "\n",
        "age = 36\n",
        "\n",
        "txt = \"My name is John, and I am {}\"\n",
        "\n",
        "print(txt.format(age))\n",
        "__________________________________________________________________________\n",
        "\n",
        "The format() method takes unlimited number of arguments, and are placed into the respective placeholders:\n",
        "\n",
        "Example\n",
        "\n",
        "quantity = 3\n",
        "\n",
        "itemno = 567\n",
        "\n",
        "price = 49.95\n",
        "\n",
        "myorder = \"I want {} pieces of item {} for {} dollars.\"\n",
        "\n",
        "print(myorder.format(quantity, itemno, price))  ~  takes the line order given in ( 0 )\n",
        "__________________________________________________________________________\n",
        "You can use index numbers {0} to be sure the arguments are placed in the correct placeholders:\n",
        "\n",
        "Example\n",
        "\n",
        "quantity = 3\n",
        "\n",
        "itemno = 567\n",
        "\n",
        "price = 49.95\n",
        "\n",
        "myorder = \"I want to pay {2} dollars for {0} pieces of item {1}.\"\n",
        "\n",
        "print(myorder.format(quantity, itemno, price))   ~ takes order given in { }"
      ],
      "metadata": {
        "id": "w7ySfYvd9vUA"
      }
    },
    {
      "cell_type": "markdown",
      "source": [
        "**ESCAPE STRINGS**\n",
        "\n",
        "Escape Character\n",
        "\n",
        "To insert characters that are illegal in a string, use an escape character.\n",
        "\n",
        "An escape character is a backslash ' \\ '  followed by the character you want to insert.\n",
        "\n",
        "An example of an illegal character is a double quote inside a string that is surrounded by double quotes:\n",
        "\n",
        "Example\n",
        "\n",
        "You will get an error if you use double quotes inside a string that is surrounded by double quotes:\n",
        "\n",
        "txt = \"We are the so-called \"Vikings\" from the north.\"\n",
        "\n",
        "To fix this problem, use the escape character \\\":\n",
        "\n",
        "Example \n",
        "\n",
        "The escape character allows you to use double quotes when you normally would not be allowed:\n",
        "\n",
        "txt = \"We are the so-called \\\"Vikings\\\" from the north.\"\n",
        "\n",
        "~  We are the so-called \"Vikings\" from the north.\n",
        "\n",
        "_________________________________________________________________________________\n",
        "\n",
        "Escape Characters\n",
        "\n",
        "Other escape characters used in Python:\n",
        "\n",
        "\\'\t       Single Quote\t\n",
        "\\\\\t       Backslash\t\n",
        "\\n\t       New Line\t\n",
        "\\r\t       Carriage Return\t\n",
        "\\t\t        Tab\t\n",
        "\\b\t        Backspace\t\n",
        "\\f\t        Form Feed\t\n",
        "\\ooo\tOctal value\t\n",
        "\\xhh\tHex value"
      ],
      "metadata": {
        "id": "V5GuuSYn9vzQ"
      }
    },
    {
      "cell_type": "markdown",
      "source": [
        "**MODIFY STRING**\n",
        "\n",
        "The replace() method replaces a string with another string:\n",
        "\n",
        "a = \"Hello, World!\"\n",
        "\n",
        "print(a.replace(\"H\", \"J\"))\n",
        "__________________________________________________________________________\n",
        "\n",
        "The strip() method removes any whitespace from the beginning or the end:\n",
        "\n",
        "a = \" Hello, World! \"\n",
        "\n",
        "print(a.strip())       # returns \"Hello, World!\"\n",
        "__________________________________________________________________________\n",
        "The split() method splits the string into substrings if it finds instances of the separator:\n",
        "\n",
        "a = \"Hello, World!\"\n",
        "\n",
        "print(a.split(\",\")) # returns ['Hello', ' World!']\n",
        "\n",
        "removes the word used b/w \" \""
      ],
      "metadata": {
        "id": "fPcPBLSP9wVw"
      }
    },
    {
      "cell_type": "markdown",
      "source": [
        "**FOR LOOP**\n",
        "\n",
        "for i in range (1,10,2):\n",
        "\n",
        "Here1 is starting and 10 is ending and 2 is step\n",
        "\n",
        "So it prints 1,3,5,7,9\n",
        "\n",
        "last element will not be considered ( i.e. 10 )\n",
        "\n",
        "for i in range ( 1,10 ):\n",
        "\n",
        "start and end\n",
        "\n",
        "for i in range (10) :\n",
        "\n",
        "end value and starts from 0"
      ],
      "metadata": {
        "id": "9E88mKYj_i-W"
      }
    },
    {
      "cell_type": "code",
      "source": [
        "#UPDATING VALUES\n",
        "\n",
        "L=[1,3,4,5,7]\n",
        "\n",
        "print(L[0:5])\n",
        "\n",
        "#append = adding in last only one value\n",
        "L.append(40)\n",
        "\n",
        "print(L)\n",
        "\n",
        "#Updates value \n",
        "L[0]=8\n",
        "\n",
        "print(L)\n",
        "\n",
        "#Removes only value not index \n",
        "#if there are two values then only first one will be removed\n",
        "#can't remove more than two values\n",
        "\n",
        "L.remove(40)\n",
        "\n",
        "print(L)\n",
        "\n",
        "\n",
        "#deletes the number by index or deletes last number if not specified\n",
        "L.pop(0)\n",
        "\n",
        "print(L)\n",
        "\n",
        "del L[1:3]\n",
        "\n",
        "print(L)"
      ],
      "metadata": {
        "colab": {
          "base_uri": "https://localhost:8080/"
        },
        "id": "_keqTV-i_K5_",
        "outputId": "49c1561c-52d9-44e6-cfe6-0a0b12c3936a"
      },
      "execution_count": 2,
      "outputs": [
        {
          "output_type": "stream",
          "name": "stdout",
          "text": [
            "[1, 3, 4, 5, 7]\n",
            "[1, 3, 4, 5, 7, 40]\n",
            "[8, 3, 4, 5, 7, 40]\n",
            "[8, 3, 4, 5, 7]\n",
            "[3, 4, 5, 7]\n",
            "[3, 7]\n"
          ]
        }
      ]
    },
    {
      "cell_type": "code",
      "source": [
        "#LIST METHODS\n",
        "\n",
        "#finds length\n",
        "l=[1,2,3,4,5,6,7,8,9,0]\n",
        "print(len(l)) #9\n",
        "\n",
        "#add 2 lists\n",
        "l2=[10,11,12]\n",
        "print(l+l2)\n",
        "\n",
        "#repeats elements 2 times\n",
        "print(l2*2)\n",
        "#one value should be integer\n",
        "#print(l*l2)\n",
        "\n",
        "#Prints True or False\n",
        "print(1 in l)\n",
        "\n",
        "print(10 in l)\n",
        "\n",
        "#max in a list\n",
        "print(max(l))\n",
        "#max of the list\n",
        "print(max(l,l2))\n",
        "#max of 2 list\n",
        "print(max(l+l2))\n",
        "#min and max\n",
        "\n",
        "#prints sum\n",
        "#Can't perform sum operation if set contains other than numerical\n",
        "print(sum(l+l2))\n",
        "\n",
        "#if there is no 0 in list then it prints True\n",
        "print(all(l))\n",
        "\n",
        "#if there are all 0 in list then it prints false\n",
        "print(any(l))\n",
        "\n",
        "#converts string to array\n",
        "l3='hello'\n",
        "print(list(l3))\n",
        "#prints in alphabetical order\n",
        "print(sorted(l3))"
      ],
      "metadata": {
        "colab": {
          "base_uri": "https://localhost:8080/"
        },
        "id": "b9ZcIixU_WL-",
        "outputId": "95c49ca1-6c6d-4ec5-b2b8-0f8efba4ce53"
      },
      "execution_count": 4,
      "outputs": [
        {
          "output_type": "stream",
          "name": "stdout",
          "text": [
            "10\n",
            "[1, 2, 3, 4, 5, 6, 7, 8, 9, 0, 10, 11, 12]\n",
            "[10, 11, 12, 10, 11, 12]\n",
            "True\n",
            "False\n",
            "9\n",
            "[10, 11, 12]\n",
            "12\n",
            "78\n",
            "False\n",
            "True\n",
            "['h', 'e', 'l', 'l', 'o']\n",
            "['e', 'h', 'l', 'l', 'o']\n"
          ]
        }
      ]
    },
    {
      "cell_type": "code",
      "source": [
        "#LIST METHODS -2\n",
        "\n",
        "#append only adds only one value at only end\n",
        "l=[1,2,3,4,5]\n",
        "l.append(60)\n",
        "print(l)\n",
        "\n",
        "\n",
        "#can add more than 2 values at only end\n",
        "l.extend([70,80])\n",
        "print(l)\n",
        "\n",
        "#insert can place value at any place by making list move \n",
        "l.insert(0,900)\n",
        "print(l) \n",
        "\n",
        "##Removes only value not index \n",
        "#if there are two values then only first one will be removed\n",
        "#can't remove more than two values\n",
        "l.remove(900)\n",
        "print(l)\n",
        "\n",
        "#deletes the number by index or deletes last number if not specified\n",
        "l.pop(0)\n",
        "print(l)\n",
        "\n",
        "\n",
        "#count and index\n",
        "j=[2,2,2,6,45]\n",
        "print(j.count(2))\n",
        "print(j.index(45))\n",
        "\n",
        "#reverse the string\n",
        "j.reverse()\n",
        "print(j)\n",
        "\n",
        "\n",
        "#short prints ascending order \n",
        "k=[1,9,8,2,2,3,5]\n",
        "k.sort()\n",
        "print(k)\n",
        "\n",
        "#to print descending order\n",
        "#To sort descending, use the keyword argument reverse = True"
      ],
      "metadata": {
        "colab": {
          "base_uri": "https://localhost:8080/"
        },
        "id": "OSTEUgeH_WCO",
        "outputId": "1c7fc9da-9bd1-4112-885a-1cd66b04da11"
      },
      "execution_count": 6,
      "outputs": [
        {
          "output_type": "stream",
          "name": "stdout",
          "text": [
            "[1, 2, 3, 4, 5, 60]\n",
            "[1, 2, 3, 4, 5, 60, 70, 80]\n",
            "[900, 1, 2, 3, 4, 5, 60, 70, 80]\n",
            "[1, 2, 3, 4, 5, 60, 70, 80]\n",
            "[2, 3, 4, 5, 60, 70, 80]\n",
            "3\n",
            "4\n",
            "[45, 6, 2, 2, 2]\n",
            "[1, 2, 2, 3, 5, 8, 9]\n"
          ]
        }
      ]
    },
    {
      "cell_type": "markdown",
      "source": [
        "**Nested List**"
      ],
      "metadata": {
        "id": "5KBVA19lm9f6"
      }
    },
    {
      "cell_type": "code",
      "execution_count": null,
      "metadata": {
        "colab": {
          "base_uri": "https://localhost:8080/"
        },
        "id": "LvmuC-DQlwkh",
        "outputId": "7a55641b-405d-41ef-b9ed-1c1158a41ea9"
      },
      "outputs": [
        {
          "output_type": "stream",
          "name": "stdout",
          "text": [
            "2\n",
            "[[1, 2], [3, 4]]\n",
            "[1, 2]\n",
            "1\n"
          ]
        }
      ],
      "source": [
        "l=[[[1,2],[3,4]],[[5,6],[7,8]]]\n",
        "print(len(l))\n",
        "print(l[0])\n",
        "print(l[0][0])\n",
        "print(l[0][0][0])"
      ]
    },
    {
      "cell_type": "markdown",
      "source": [
        "**List comprehension**"
      ],
      "metadata": {
        "id": "s_CIa7E8nDKH"
      }
    },
    {
      "cell_type": "code",
      "source": [
        "#Printing cube of numbers\n",
        "l=[]\n",
        "for i in range(1,11):\n",
        "  l.append(i**3)\n",
        "print(l)"
      ],
      "metadata": {
        "colab": {
          "base_uri": "https://localhost:8080/"
        },
        "id": "AMBsa6hznDbw",
        "outputId": "7f8184bd-b6af-49f0-fc87-3d83b5b4c636"
      },
      "execution_count": null,
      "outputs": [
        {
          "output_type": "stream",
          "name": "stdout",
          "text": [
            "[1, 8, 27, 64, 125, 216, 343, 512, 729, 1000]\n"
          ]
        }
      ]
    },
    {
      "cell_type": "code",
      "source": [
        "#One line code \n",
        "n=int(input())\n",
        "l=[i**3 for i in range(1,n+1)]  # first expresion must\n",
        "print(l)"
      ],
      "metadata": {
        "colab": {
          "base_uri": "https://localhost:8080/"
        },
        "id": "nwicrMR9stBN",
        "outputId": "40f3dd70-b32c-434d-ffdf-67b22e5036b5"
      },
      "execution_count": null,
      "outputs": [
        {
          "output_type": "stream",
          "name": "stdout",
          "text": [
            "10\n",
            "[1, 8, 27, 64, 125, 216, 343, 512, 729, 1000]\n"
          ]
        }
      ]
    },
    {
      "cell_type": "code",
      "source": [
        "#Even numbers\n",
        "#newlist = [expression for item in iterable if condition == True]\n",
        "n=int(input())\n",
        "l=[i for i in range (1,n+1) if i%2==0]\n",
        "print(l)"
      ],
      "metadata": {
        "colab": {
          "base_uri": "https://localhost:8080/"
        },
        "id": "fbkRXcDntW2x",
        "outputId": "0219abe9-ae6d-4eb5-969d-789d38325a3a"
      },
      "execution_count": null,
      "outputs": [
        {
          "output_type": "stream",
          "name": "stdout",
          "text": [
            "10\n",
            "[2, 4, 6, 8, 10]\n"
          ]
        }
      ]
    },
    {
      "cell_type": "markdown",
      "source": [
        "**TUPLES**"
      ],
      "metadata": {
        "id": "Zw_9evcnu76_"
      }
    },
    {
      "cell_type": "code",
      "source": [
        "#Elements of tuples are enclosed in ()\n",
        "#immutable- can't modify\n",
        "a=(1,2,3,4,5,6,7,8,9)\n",
        "b=(1,2,2.5,'py')\n",
        "c=() #empty tuple\n",
        "\n",
        "#creating a tuple with only one element ',' makes it tuple\n",
        "d=(10,)\n",
        "print(type(d))\n",
        "\n",
        "#same index as list\n",
        "print(a[0])\n",
        "print(a[0:5])\n",
        "\n",
        "#slicing\n",
        "print(a[0:9:2])\n",
        "\n",
        "#deletion is not possible\n",
        "#can only delete entire tuple\n",
        "del b\n",
        "\n",
        "#nested tuple is same as nested list"
      ],
      "metadata": {
        "id": "lHSQxTMwtXAv",
        "colab": {
          "base_uri": "https://localhost:8080/"
        },
        "outputId": "e3d4f23e-1405-4d35-a806-90a1faf76a1c"
      },
      "execution_count": 19,
      "outputs": [
        {
          "output_type": "stream",
          "name": "stdout",
          "text": [
            "<class 'tuple'>\n",
            "1\n",
            "(1, 2, 3, 4, 5)\n",
            "(1, 3, 5, 7, 9)\n"
          ]
        }
      ]
    },
    {
      "cell_type": "markdown",
      "source": [
        "**BASIC TUPLE OPERATIONS**"
      ],
      "metadata": {
        "id": "U_-BztyHD-BC"
      }
    },
    {
      "cell_type": "code",
      "source": [
        "a=(1,2,3,4,5,6,7,8,9)\n",
        "print(len(a))\n",
        "print(max(a))\n",
        "print(min(a))\n",
        "\n",
        "#Can't perform sum operation if set contains other than numerical\n",
        "print(sum(a))\n",
        "\n",
        "b=(10,11,12,13,14,15)\n",
        "print(a+b)\n",
        "\n",
        "#repeats elements 2 times\n",
        "#one value should be integer\n",
        "print(b*2)\n",
        "\n",
        "print(10 in b) \n",
        "print( 10 not in b)\n",
        "\n",
        "#Sorted - Arranges elements in ascending order\n",
        "c=(1,9,7,3,5,6,4,8)\n",
        "print(sorted(c))\n",
        "\n",
        "#Tuple fucntion\n",
        "d= \"hello\"\n",
        "e=[1,5,6,7,8,6,1,1]\n",
        "f = 1,2,'ko'\n",
        "print(tuple(d))\n",
        "print(tuple(e))\n",
        "print(tuple(f))\n",
        "\n",
        "#Count - Tells how many times a number is present in tuple\n",
        "print(e.count(1))\n",
        "#shows index of first element if there are multiple\n",
        "print(e.index(1))\n",
        "\n",
        "#Example\n",
        "#Convert the tuple into a list to be able to change it:\n",
        "\n",
        "x = (\"apple\", \"banana\", \"cherry\")\n",
        "y = list(x)\n",
        "y[1] = \"kiwi\"\n",
        "x = tuple(y)\n",
        "\n",
        "print(x)"
      ],
      "metadata": {
        "colab": {
          "base_uri": "https://localhost:8080/"
        },
        "id": "pMXVOt2QD9fd",
        "outputId": "0b292847-89eb-415d-f877-41f018332fdc"
      },
      "execution_count": 38,
      "outputs": [
        {
          "output_type": "stream",
          "name": "stdout",
          "text": [
            "9\n",
            "9\n",
            "1\n",
            "45\n",
            "(1, 2, 3, 4, 5, 6, 7, 8, 9, 10, 11, 12, 13, 14, 15)\n",
            "(10, 11, 12, 13, 14, 15, 10, 11, 12, 13, 14, 15)\n",
            "True\n",
            "False\n",
            "[1, 3, 4, 5, 6, 7, 8, 9]\n",
            "('h', 'e', 'l', 'l', 'o')\n",
            "(1, 5, 6, 7, 8, 6, 1, 1)\n",
            "(1, 2, 'ko')\n",
            "3\n",
            "0\n",
            "('apple', 'kiwi', 'cherry')\n"
          ]
        }
      ]
    },
    {
      "cell_type": "code",
      "source": [
        "#Using Asterisk\n",
        "\n",
        "#If the number of variables is less than the number of values, you can add an * to the variable name and the values will be assigned to the variable as a list:\n",
        "\n",
        "#Example\n",
        "\n",
        "#Assign the rest of the values as a list called \"red\":\n",
        "\n",
        "fruits = (\"apple\", \"banana\", \"cherry\", \"strawberry\", \"raspberry\")\n",
        "\n",
        "\n",
        "(green, yellow, *red) = fruits\n",
        "\n",
        "print(green) \n",
        "\n",
        "print(yellow)\n",
        "\n",
        "print(red)\n",
        "\n",
        "#If the asterisk is added to another variable name than the last, Python will assign values to the variable until the number of values left matches the number of variables left.\n",
        "\n",
        "#Example\n",
        "#Add a list of values the \"tropic\" variable:\n",
        "\n",
        "fruits = (\"apple\", \"mango\", \"papaya\", \"pineapple\", \"cherry\")\n",
        "\n",
        "(green, *tropic, red) = fruits\n",
        "\n",
        "print(green)\n",
        "print(tropic)\n",
        "print(red)"
      ],
      "metadata": {
        "colab": {
          "base_uri": "https://localhost:8080/"
        },
        "id": "7hZnV-2NI7lQ",
        "outputId": "bcfb16df-9e8b-4a5d-9ebc-17579945b533"
      },
      "execution_count": 40,
      "outputs": [
        {
          "output_type": "stream",
          "name": "stdout",
          "text": [
            "apple\n",
            "banana\n",
            "['cherry', 'strawberry', 'raspberry']\n",
            "apple\n",
            "['mango', 'papaya', 'pineapple']\n",
            "cherry\n"
          ]
        }
      ]
    },
    {
      "cell_type": "markdown",
      "source": [
        "**SETS**\n",
        "\n",
        "List is a collection which is ordered and changeable. Allows duplicate members. \n",
        "\n",
        "Tuple is a collection which is ordered and unchangeable. Allows duplicate members.\n",
        "\n",
        "Set is a collection which is unordered, unchangeable*, and unindexed. No duplicate members.\n",
        "\n",
        "Dictionary is a collection which is ordered** and changeable. No duplicate members.\n",
        "\n",
        "*Set items are unchangeable, but you can remove and/or add items whenever you like.\n",
        "\n",
        "**As of Python version 3.7, dictionaries are ordered. In Python 3.6 and earlier, dictionaries are unordered."
      ],
      "metadata": {
        "id": "XYvcsnjXHFs4"
      }
    },
    {
      "cell_type": "code",
      "source": [
        "#unorderd can print anyway\n",
        "a={'string',1,2.2}\n",
        "print(a)\n",
        "\n",
        "#set prints only unique elements and also only takes unique elements as length\n",
        "b={1,21,5,21,21,6}\n",
        "print(b)\n",
        "print(len(b))\n",
        "print(max(b))\n",
        "print(min(b))\n",
        "\n",
        "#Can't perform sum operation if set contains other than numerical\n",
        "print(sum(b))\n",
        "\n",
        "print(sorted(b))\n",
        "\n",
        "print(21 not in b)\n",
        "\n",
        "#doesn't support indexing and slicing\n",
        "\n",
        "#empty set\n",
        "s=set()\n",
        "print(type(s))\n",
        "\n",
        "#if created like this, it will become dictonary\n",
        "s={}\n",
        "print(type(s))\n",
        "\n",
        "#Can only delete full set and if tried to print that set we will get error"
      ],
      "metadata": {
        "colab": {
          "base_uri": "https://localhost:8080/"
        },
        "id": "k_q9CtGIHGLl",
        "outputId": "8157b0f4-bef1-4886-d704-4878987b0865"
      },
      "execution_count": 53,
      "outputs": [
        {
          "output_type": "stream",
          "name": "stdout",
          "text": [
            "{1, 'string', 2.2}\n",
            "{1, 5, 21, 6}\n",
            "4\n",
            "21\n",
            "1\n",
            "33\n",
            "[1, 5, 6, 21]\n",
            "False\n",
            "<class 'set'>\n",
            "<class 'dict'>\n"
          ]
        }
      ]
    },
    {
      "cell_type": "markdown",
      "source": [
        "**SET OPERATIONS**"
      ],
      "metadata": {
        "id": "j6k_TBvlNUoC"
      }
    },
    {
      "cell_type": "code",
      "source": [
        "a={1,21,5,21,21,6}\n",
        "\n",
        "#adding a copy element is no use\n",
        "a.add(22)\n",
        "print(a)\n",
        "\n",
        "#update here a+b doesn't works\n",
        "#The object in the update() method does not have to be a set, it can be any iterable object (tuples, lists, dictionaries etc.).\n",
        "b={22,21,25,26}\n",
        "a.update(b)\n",
        "print(a)\n",
        "\n",
        "#if we try to remove element which is not present in set we will get error\n",
        "a.remove(22)\n",
        "print(a)\n",
        "\n",
        "#here we won't get error if the element is absent\n",
        "a.discard(25)\n",
        "print(a)\n",
        "\n",
        "#pop [ 99%-1st element ]\n",
        "a.pop()\n",
        "print(a)\n",
        "\n",
        "#gets error as entire set is deleted\n",
        "c={1,2,3,4}\n",
        "del(c)\n",
        "#print(c)\n",
        "\n",
        "#clear \n",
        "d={2,5,4,8,9}\n",
        "d.clear()\n",
        "print(d)\n",
        "\n",
        "#union combine 2 sets\n",
        "print(a.union(b))\n",
        "#or\n",
        "print(a|b)\n",
        "\n",
        "#intersection - prints only matches elements from both sets\n",
        "x={1,2,3,4}\n",
        "y={3,4,5,6}\n",
        "print(x.intersection(y))\n",
        "print(x&y)\n",
        "\n",
        "#difference - prints elements that are not present in another set\n",
        "print(x.difference(y))\n",
        "print(y-x)\n",
        "\n",
        "#symetric_difference - prints all elements except same elements from both sers\n",
        "print(x.symmetric_difference(y))\n",
        "print(x^y)\n",
        "\n",
        "#subset every element of x set should present in y then returns True\n",
        "print(x.issubset(y))\n",
        "print(x<=y)\n",
        "\n",
        "#issuperset every element of f set should present in g then true\n",
        "f={4,5}\n",
        "g={4,5,6,7,8,9}\n",
        "print(g.issuperset(f))\n",
        "print(g>=f)\n",
        "\n",
        "#isdisjoint no common elemets TRUE\n",
        "print(f.isdisjoint(g))\n",
        "print()\n",
        "\n",
        "#copied g elements to f\n",
        "g=f.copy()\n",
        "print(g)"
      ],
      "metadata": {
        "colab": {
          "base_uri": "https://localhost:8080/"
        },
        "id": "MDswQJzKNUds",
        "outputId": "f3486ba1-05e0-4116-da55-532ce162e59f"
      },
      "execution_count": 107,
      "outputs": [
        {
          "output_type": "stream",
          "name": "stdout",
          "text": [
            "{1, 5, 6, 21, 22}\n",
            "{1, 5, 6, 21, 22, 25, 26}\n",
            "{1, 5, 6, 21, 25, 26}\n",
            "{1, 5, 6, 21, 26}\n",
            "{5, 6, 21, 26}\n",
            "set()\n",
            "{5, 6, 21, 22, 25, 26}\n",
            "{5, 6, 21, 22, 25, 26}\n",
            "{3, 4}\n",
            "{3, 4}\n",
            "{1, 2}\n",
            "{5, 6}\n",
            "{1, 2, 5, 6}\n",
            "{1, 2, 5, 6}\n",
            "False\n",
            "False\n",
            "True\n",
            "True\n",
            "False\n",
            "\n",
            "{4, 5}\n"
          ]
        }
      ]
    },
    {
      "cell_type": "markdown",
      "source": [
        "**DICTIONRAIES**"
      ],
      "metadata": {
        "id": "VN0nRJNuWp1i"
      }
    },
    {
      "cell_type": "code",
      "source": [
        "#Dictionaries are used to store data values in key:value pairs.\n",
        "\n",
        "#Dictionary items are ordered, changeable, and does not allow duplicates.\n",
        "\n",
        "#Dictionary items are presented in key:value pairs, and can be referred to by using the key name.\n",
        "\n",
        "thisdict = {\n",
        "  \"brand\": \"Ford\",\n",
        "  \"model\": \"Mustang\",\n",
        "  \"year\": 1964\n",
        "}\n",
        "print(thisdict[\"brand\"])  # ford\n",
        "\n",
        "#Acess\n",
        "x = thisdict.get(\"model\") # Mustang\n",
        "print(x)\n",
        "\n",
        "#As of Python version 3.7, dictionaries are ordered. In Python 3.6 and earlier, dictionaries are unordered.\n",
        "\n",
        "#You can access the items of a dictionary by referring to its key name, inside square brackets\n",
        "\n",
        "#keys -  returns all key values\n",
        "x = thisdict.keys()\n",
        "print(x)\n",
        "#values - returns aa values\n",
        "x = thisdict.values()\n",
        "print(x)\n",
        "\n",
        "#adding new key-value to dict\n",
        "thisdict[\"color\"] = \"white\"\n",
        "print(thisdict)\n",
        "\n",
        "#The items() method will return each item in a dictionary, as tuples in a list.\n",
        "x = thisdict.items()\n",
        "print(x)\n",
        "\n",
        "#change values\n",
        "thisdict[\"year\"] = 2018\n",
        "print(thisdict)\n",
        "\n",
        "thisdict.update({\"year\": 2020})\n",
        "print(thisdict)\n",
        "\n",
        "#You can loop through a dictionary by using a for loop.\n",
        "#When looping through a dictionary, the return value are the keys of the dictionary, but there are methods to return the values as well\n",
        "for x in thisdict:\n",
        "  print(x)\n",
        "\n",
        "#Print all values in the dictionary, one by one:\n",
        "for x in thisdict:\n",
        "  print(thisdict[x])\n",
        "\n",
        "#You can also use the values() method to return values of a dictionary\n",
        "for x in thisdict.values():\n",
        "  print(x)\n",
        "\n",
        "#You can use the keys() method to return the keys of a dictionary\n",
        "for x in thisdict.keys():\n",
        "  print(x)\n",
        "\n",
        "#Loop through both keys and values, by using the items() method\n",
        "for x, y in thisdict.items():\n",
        "  print(x, y)\n",
        "\n",
        "#copying dict\n",
        "mydict = thisdict.copy()\n",
        "print(mydict)\n",
        "\n",
        "mydict = dict(thisdict)\n",
        "print(mydict)\n",
        "\n",
        "#setdefault()\n",
        "x = thisdict.setdefault(\"model\", \"Bronco\")\n",
        "print(x)\n",
        "\n",
        "#fromkeys - Create a dictionary with 3 keys, all with the value 0 \n",
        "x = ('key1', 'key2', 'key3')\n",
        "y = 0\n",
        "k = dict.fromkeys(x, y)\n",
        "print(k)\n",
        "\n",
        "\n",
        "  #The pop() method removes the item with the specified key name:\n",
        "thisdict.pop(\"model\")\n",
        "print(thisdict)\n",
        "\n",
        "#The popitem() method removes the last inserted item (in versions before 3.7, a random item is removed instead):\n",
        "thisdict.popitem()\n",
        "print(thisdict)\n",
        "\n",
        "#del keyword removes the item with the specified key name \n",
        "#del keyword can delete dict completely\n",
        "del thisdict[\"brand\"]\n",
        "print(thisdict)\n",
        "\n",
        "#The clear() method empties the dictionary:\n",
        "thisdict.clear()\n",
        "print(thisdict)"
      ],
      "metadata": {
        "colab": {
          "base_uri": "https://localhost:8080/"
        },
        "id": "8QiKiC7sWqMC",
        "outputId": "03ae232a-a016-4269-cba3-cf196876506d"
      },
      "execution_count": 126,
      "outputs": [
        {
          "output_type": "stream",
          "name": "stdout",
          "text": [
            "Ford\n",
            "Mustang\n",
            "dict_keys(['brand', 'model', 'year'])\n",
            "dict_values(['Ford', 'Mustang', 1964])\n",
            "{'brand': 'Ford', 'model': 'Mustang', 'year': 1964, 'color': 'white'}\n",
            "dict_items([('brand', 'Ford'), ('model', 'Mustang'), ('year', 1964), ('color', 'white')])\n",
            "{'brand': 'Ford', 'model': 'Mustang', 'year': 2018, 'color': 'white'}\n",
            "{'brand': 'Ford', 'model': 'Mustang', 'year': 2020, 'color': 'white'}\n",
            "brand\n",
            "model\n",
            "year\n",
            "color\n",
            "Ford\n",
            "Mustang\n",
            "2020\n",
            "white\n",
            "Ford\n",
            "Mustang\n",
            "2020\n",
            "white\n",
            "brand\n",
            "model\n",
            "year\n",
            "color\n",
            "brand Ford\n",
            "model Mustang\n",
            "year 2020\n",
            "color white\n",
            "{'brand': 'Ford', 'model': 'Mustang', 'year': 2020, 'color': 'white'}\n",
            "{'brand': 'Ford', 'model': 'Mustang', 'year': 2020, 'color': 'white'}\n",
            "Mustang\n",
            "{'brand': 'Ford', 'year': 2020, 'color': 'white'}\n",
            "{'brand': 'Ford', 'year': 2020}\n",
            "{'year': 2020}\n",
            "{}\n"
          ]
        }
      ]
    },
    {
      "cell_type": "markdown",
      "source": [
        ""
      ],
      "metadata": {
        "id": "77ut82LbfbOT"
      }
    }
  ]
}