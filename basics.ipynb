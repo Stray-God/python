{
  "nbformat": 4,
  "nbformat_minor": 0,
  "metadata": {
    "colab": {
      "name": "basics.ipynb",
      "provenance": [],
      "collapsed_sections": [],
      "include_colab_link": true
    },
    "kernelspec": {
      "name": "python3",
      "display_name": "Python 3"
    },
    "language_info": {
      "name": "python"
    }
  },
  "cells": [
    {
      "cell_type": "markdown",
      "metadata": {
        "id": "view-in-github",
        "colab_type": "text"
      },
      "source": [
        "<a href=\"https://colab.research.google.com/github/Stray-God/python/blob/main/basics.ipynb\" target=\"_parent\"><img src=\"https://colab.research.google.com/assets/colab-badge.svg\" alt=\"Open In Colab\"/></a>"
      ]
    },
    {
      "cell_type": "markdown",
      "source": [
        "**Variables Declaration**\n",
        "\n",
        "In python we can declare variables \n",
        "\n",
        "a,b,c = 1,2,3 \n",
        "\n",
        "where a value is 1 , b is 2 , c is 3.\n",
        "\n",
        "\n",
        "where as in C it's not possible:\n",
        "\n",
        "int a,b,c = 1,2,3 ;    ~ ERROR\n",
        "\n",
        "int a,b,c = (1,2,3) ;   ~ a=0 , b=0 , c =3 "
      ],
      "metadata": {
        "id": "dbcSihjSy71y"
      }
    },
    {
      "cell_type": "markdown",
      "source": [
        "**Key differences in assigning variables**\n",
        "\n",
        "Int , float , str , boolean are immutable in Python \n",
        "\n",
        "[ below is the ex ]\n",
        "\n",
        "In python \n",
        "\n",
        "a = 2\n",
        "b = a\n",
        "a = 4\n",
        "print ( a ,b)  ~ a = 4, b = 2\n",
        "\n",
        "In C\n",
        "\n",
        "if we try to assign new value to same variable it prints error due to redefinition"
      ],
      "metadata": {
        "id": "yiHbNJxBzG5R"
      }
    },
    {
      "cell_type": "markdown",
      "source": [
        "**CHAR & STR DIFF**\n",
        "\n",
        "In python we can declare string and char with both \n",
        "\n",
        "a = 'ram' or a = \" ram\"\n",
        "\n",
        "a = 'r' or a = \"r\"\n",
        "\n",
        "where as in c \n",
        "\n",
        "char a = 'r' ;\n",
        "\n",
        "and \n",
        "\n",
        "char a[ ] = \"ram\" ;"
      ],
      "metadata": {
        "id": "Ky-nO3qb3k9v"
      }
    },
    {
      "cell_type": "markdown",
      "source": [
        "**DATA TYPES**\n",
        "\n",
        "int\n",
        "\n",
        "float\n",
        "\n",
        "Boolean - True & False ( capital T & F )\n",
        "\n",
        "str\n",
        "\n",
        "None ( Capital N )\n",
        "\n",
        "list -   x = [\"apple\", \"banana\", \"cherry\"]\n",
        "\n",
        "tuple -  x = (\"apple\", \"banana\", \"cherry\")\n",
        "\n",
        "set -   x = {\"apple\", \"banana\", \"cherry\"}\n",
        "\n",
        "dictionary -    x = {\"name\" : \"John\", \"age\" : 36}"
      ],
      "metadata": {
        "id": "oeqmimGq4i_L"
      }
    },
    {
      "cell_type": "markdown",
      "source": [
        "**List - (mutable) and Tuple - (Immutable) data type**\n",
        "\n",
        "a= 1,2,3,'row' \n",
        "\n",
        "print (type(a))  ~ tuple\n",
        "\n",
        "print(a)  ~ ( 1, 2, 3 , 'row' )\n",
        "\n",
        "\n",
        "---\n",
        "\n",
        "\n",
        "\n",
        "a= ( 1,2,3,'romw' )\n",
        "\n",
        "print (type(a))  ~ tuple\n",
        "\n",
        "print(a) ~ ( 1, 2, 3 , 'row' )\n",
        "\n",
        "\n",
        "---\n",
        "\n",
        "\n",
        "\n",
        "a= [1,2,3,'row']\n",
        "\n",
        "print (type(a))   ~ list\n",
        "\n",
        "print(a)     ~ [1,2,3,'row']"
      ],
      "metadata": {
        "id": "-mwED9PI4ixf"
      }
    },
    {
      "cell_type": "markdown",
      "source": [
        "\n",
        "**Set data type**\n",
        "\n",
        "Collection of elements and doesn't prints duplicate elements \n",
        " prints in unorder ( diff can be found when taken more elements )\n",
        "\n",
        "\n",
        "---\n",
        "\n",
        "\n",
        "\n",
        "a= { 1,2,3,'row' ,1 }\n",
        "\n",
        "print (type(a)) ~ set\n",
        "\n",
        "print(a)  ~  { 1,2,3,'row'  }\n",
        "\n",
        "\n",
        "\n",
        "---\n",
        "\n",
        "\n",
        "a= {1,2,3,'row' ,1 , 7 ,6,9,4,89,67,68,8543,}\n",
        "\n",
        "print (type(a)) ~ set\n",
        "\n",
        "print(a) ~  { 1 , 2 , 3 , 4 , 67 ,6 . . . . }"
      ],
      "metadata": {
        "id": "xjaBn8VL4iqX"
      }
    },
    {
      "cell_type": "markdown",
      "source": [
        "**OPERATORS**\n",
        "\n",
        "Arithmetic  : + , - , * , / , // , % , **\n",
        "\n",
        "/ - gives answer in decimal (7/3 = 2.3)\n",
        "\n",
        "// - gives 7/3 = 2 \n",
        "\n",
        "** - power or exponent\n",
        "______________________________________________________________\n",
        "Relation or Comparison : #prints True or False \n",
        "\n",
        "   [  > , >= , < , <= , == , !=  ]\n",
        "______________________________________________________________\n",
        "Logical :\n",
        "\n",
        "and (&&) , or ( || ) , not [ ! (||) ]\n",
        "\n",
        "~same as C \n",
        "\n",
        "~ output will be True or False\n",
        "______________________________________________________________\n",
        "Assignment :\n",
        "\n",
        "[ = , += , -=  ]\n",
        "______________________________________________________________\n",
        "Unary operation :\n",
        "\n",
        "-a , +a\n",
        "\n",
        "a=10  \n",
        "\n",
        "print (-a)   ~  -10\n",
        "______________________________________________________________\n",
        "Bitwise operator\n",
        " \n",
        "& , | , << , >> , ^ , ~\n",
        "______________________________________________________________\n",
        "Membership operators :\n",
        "\n",
        "in , not in\n",
        "______________________________________________________________\n",
        "\n",
        "Identity operators :\n",
        "\n",
        "is , is not\n",
        "______________________________________________________________\n"
      ],
      "metadata": {
        "id": "X5xUwVYj6Bc0"
      }
    },
    {
      "cell_type": "markdown",
      "source": [
        "***STRINGS***\n",
        "\n",
        "Strings are Arrays\n",
        "Like many other popular programming languages, strings in Python are arrays of bytes representing Unicode characters.\n",
        "\n",
        "However, Python does not have a character data type, a single character is simply a string with a length of 1.\n",
        "\n",
        "Square brackets can be used to access elements of the string.\n",
        "\n",
        "Example\n",
        "\n",
        "a = \"Hello, World!\"\n",
        "\n",
        "print(a[1])  ~  e\n",
        "\n",
        "_____________________________________________________________________________\n",
        "\n",
        "String Length :\n",
        "\n",
        " len()\n",
        "\n",
        "\n",
        "To check if a certain phrase or character is present in a string, we can use the keyword ' in '  ~ Tells True or False\n",
        "\n",
        "Can also use in ' if ' statement"
      ],
      "metadata": {
        "id": "kL3H0ISe6BaO"
      }
    },
    {
      "cell_type": "markdown",
      "source": [
        "**INPUT & OUTPUT**\n",
        "\n",
        "a = input ( ) \n",
        "\n",
        "print ( a )   \n",
        "______________________________________________________________\n",
        "\n",
        "a = input ( ' enter a number ' )\n",
        "\n",
        "______________________________________________________________\n",
        "\n",
        "input statement takes any value as string :\n",
        "\n",
        "a = int ( input ( ' enter a number ' ) )\n",
        "______________________________________________________________\n",
        "\n",
        "Printing statement with a message :\n",
        "\n",
        "a = float (input (\"enter \" ))\n",
        "\n",
        "b = float (input (\"enter \" ))\n",
        "\n",
        "c = a+b\n",
        "\n",
        "print ('sum of' ,a ,'and', b ,'is' ,c)\n",
        "______________________________________________________________\n",
        "\n",
        "sep is seperator\n",
        "\n",
        "a = float (input (\"enter \" ))\n",
        "\n",
        "b = float (input (\"enter \" ))\n",
        "\n",
        "c = a+b\n",
        "\n",
        "\n",
        "print ('sum of' ,a ,'and', b ,'is' ,c,sep='.')  \n",
        "\n",
        "~ replaces , with .\n",
        "______________________________________________________________\n",
        "\n",
        "print statement don't need \\n\n",
        "\n",
        "print ( ' hi ' )\n",
        "\n",
        "print ( ' op ' )\n",
        "\n",
        "~ hi\n",
        "\n",
        "op\n",
        "______________________________________________________________\n",
        "\n",
        "to print without gap in ' + ' is used instead of ' , '\n",
        "\n",
        "' + ' can only be used on strings\n",
        "\n",
        "a =  int (input (\"enter \" )) ~ error\n",
        "\n",
        "a =  (input (\"enter \" )) ~ no error bcz the entered value becomes string by default input statement \n",
        "______________________________________________________________"
      ],
      "metadata": {
        "id": "m-mr1nN86BXH"
      }
    },
    {
      "cell_type": "markdown",
      "source": [
        "**KEY WORDS**\n",
        "\n",
        "Keywords are case sensitive . \n",
        "\n",
        "True , False , None - 1st letter is upper case .\n",
        "\n",
        "\" else if \" is simplified as \" elif \" .\n",
        "\n",
        "and - && in C\n",
        "\n",
        "or - || in C\n",
        "\n",
        "not - ! in C\n",
        "\n",
        "is - = ( Equal to ) ; a = 10 ,b=7 print ( a is b ) ~ False\n",
        "\n",
        "in - tells wheather the number is in given data ( True or False ) a= [ 1 , 4 , 5 ] printf ( 1 in a )\n",
        "~ True\n",
        "\n",
        "yield - same as return in c but helps in returning more than one value\n",
        "\n",
        "try , except , finally , raise , assert - exception functions\n",
        "\n",
        "import - helps in modules\n",
        "\n",
        "from - imports one function / library from modules\n",
        "\n",
        "as - alternative name for module ex: import math as m\n",
        "\n",
        "def - user defined functions\n",
        "\n",
        "lamda - anonymous functions\n"
      ],
      "metadata": {
        "id": "p8GYN8iE88VJ"
      }
    },
    {
      "cell_type": "code",
      "source": [
        "#To print random numbers\n",
        "import random\n",
        "\n",
        "print(random.randrange(1,10))"
      ],
      "metadata": {
        "id": "0cIr7aAm9OtR"
      },
      "execution_count": null,
      "outputs": []
    },
    {
      "cell_type": "markdown",
      "source": [
        "**SYNTAX**\n",
        "\n",
        "Python will give you an error if you skip the indentation:\n",
        "\n",
        "The number of spaces is up to you as a programmer, the most common use is four, but it has to be at least one.\n",
        "\n",
        "You have to use the same number of spaces in the same block of code, otherwise Python will give you an error:"
      ],
      "metadata": {
        "id": "IKZHPKK388Hp"
      }
    },
    {
      "cell_type": "markdown",
      "source": [
        "**SLICING**\n",
        "\n",
        "Slicing\n",
        "You can return a range of characters by using the slice syntax.\n",
        "\n",
        "Specify the start index and the end index, separated by a colon, to return a part of the string.\n",
        "\n",
        "Example\n",
        "Get the characters from position 2 to position 5 (not included):\n",
        "\n",
        "b = \"Hello, World!\"\n",
        "\n",
        "print(b[2:5])  ~ llo\n",
        "\n",
        "print(b[:5]) ~ Hello\n",
        "\n",
        "print(b[2:]) ~ llo, World!\n",
        "\n",
        "Negative Indexing \n",
        "\n",
        "Use negative indexes to start the slice from the end of the string:\n",
        "\n",
        "Example\n",
        "\n",
        "-2 is not included\n",
        "\n",
        "kow - w is -1 , 0 is -2 , .....\n",
        "\n",
        "b = \"Hello, World!\" \n",
        " \n",
        "print(b[-5:-2])  ~ orl\n",
        "\n",
        "if -2:-5 ( Wrong )\n",
        "_________________________________________________________________\n",
        "b = \"lowsd\"\n",
        "\n",
        "print(b[::-1])\n",
        "\n",
        "( start:stop:step )"
      ],
      "metadata": {
        "id": "wqzDQ3Zi87_Z"
      }
    },
    {
      "cell_type": "markdown",
      "source": [
        "**FORMAT**\n",
        "\n",
        "Use the format() method to insert numbers into strings:\n",
        "\n",
        "age = 36\n",
        "\n",
        "txt = \"My name is John, and I am {}\"\n",
        "\n",
        "print(txt.format(age))\n",
        "__________________________________________________________________________\n",
        "\n",
        "The format() method takes unlimited number of arguments, and are placed into the respective placeholders:\n",
        "\n",
        "Example\n",
        "\n",
        "quantity = 3\n",
        "\n",
        "itemno = 567\n",
        "\n",
        "price = 49.95\n",
        "\n",
        "myorder = \"I want {} pieces of item {} for {} dollars.\"\n",
        "\n",
        "print(myorder.format(quantity, itemno, price))  ~  takes the line order given in ( 0 )\n",
        "__________________________________________________________________________\n",
        "You can use index numbers {0} to be sure the arguments are placed in the correct placeholders:\n",
        "\n",
        "Example\n",
        "\n",
        "quantity = 3\n",
        "\n",
        "itemno = 567\n",
        "\n",
        "price = 49.95\n",
        "\n",
        "myorder = \"I want to pay {2} dollars for {0} pieces of item {1}.\"\n",
        "\n",
        "print(myorder.format(quantity, itemno, price))   ~ takes order given in { }"
      ],
      "metadata": {
        "id": "w7ySfYvd9vUA"
      }
    },
    {
      "cell_type": "markdown",
      "source": [
        "**ESCAPE STRINGS**\n",
        "\n",
        "Escape Character\n",
        "\n",
        "To insert characters that are illegal in a string, use an escape character.\n",
        "\n",
        "An escape character is a backslash ' \\ '  followed by the character you want to insert.\n",
        "\n",
        "An example of an illegal character is a double quote inside a string that is surrounded by double quotes:\n",
        "\n",
        "Example\n",
        "\n",
        "You will get an error if you use double quotes inside a string that is surrounded by double quotes:\n",
        "\n",
        "txt = \"We are the so-called \"Vikings\" from the north.\"\n",
        "\n",
        "To fix this problem, use the escape character \\\":\n",
        "\n",
        "Example \n",
        "\n",
        "The escape character allows you to use double quotes when you normally would not be allowed:\n",
        "\n",
        "txt = \"We are the so-called \\\"Vikings\\\" from the north.\"\n",
        "\n",
        "~  We are the so-called \"Vikings\" from the north.\n",
        "\n",
        "_________________________________________________________________________________\n",
        "\n",
        "Escape Characters\n",
        "\n",
        "Other escape characters used in Python:\n",
        "\n",
        "\\'\t       Single Quote\t\n",
        "\\\\\t       Backslash\t\n",
        "\\n\t       New Line\t\n",
        "\\r\t       Carriage Return\t\n",
        "\\t\t        Tab\t\n",
        "\\b\t        Backspace\t\n",
        "\\f\t        Form Feed\t\n",
        "\\ooo\tOctal value\t\n",
        "\\xhh\tHex value"
      ],
      "metadata": {
        "id": "V5GuuSYn9vzQ"
      }
    },
    {
      "cell_type": "markdown",
      "source": [
        "**MODIFY STRING**\n",
        "\n",
        "The replace() method replaces a string with another string:\n",
        "\n",
        "a = \"Hello, World!\"\n",
        "\n",
        "print(a.replace(\"H\", \"J\"))\n",
        "__________________________________________________________________________\n",
        "\n",
        "The strip() method removes any whitespace from the beginning or the end:\n",
        "\n",
        "a = \" Hello, World! \"\n",
        "\n",
        "print(a.strip())       # returns \"Hello, World!\"\n",
        "__________________________________________________________________________\n",
        "The split() method splits the string into substrings if it finds instances of the separator:\n",
        "\n",
        "a = \"Hello, World!\"\n",
        "\n",
        "print(a.split(\",\")) # returns ['Hello', ' World!']\n",
        "\n",
        "removes the word used b/w \" \""
      ],
      "metadata": {
        "id": "fPcPBLSP9wVw"
      }
    },
    {
      "cell_type": "markdown",
      "source": [
        "**FOR LOOP**\n",
        "\n",
        "for i in range (1,10,2):\n",
        "\n",
        "Here1 is starting and 10 is ending and 2 is step\n",
        "\n",
        "So it prints 1,3,5,7,9\n",
        "\n",
        "last element will not be considered ( i.e. 10 )\n",
        "\n",
        "for i in range ( 1,10 ):\n",
        "\n",
        "start and end\n",
        "\n",
        "for i in range (10) :\n",
        "\n",
        "end value and starts from 0"
      ],
      "metadata": {
        "id": "9E88mKYj_i-W"
      }
    },
    {
      "cell_type": "code",
      "source": [
        "#UPDATING VALUES\n",
        "\n",
        "L=[1,3,4,5,7]\n",
        "\n",
        "print(L[0:5])\n",
        "\n",
        "#append = adding in last only one value\n",
        "L.append(40)\n",
        "\n",
        "print(L)\n",
        "\n",
        "#Updates value \n",
        "L[0]=8\n",
        "\n",
        "print(L)\n",
        "\n",
        "#Removes only value not index \n",
        "#if there are two values then only first one will be removed\n",
        "#can't remove more than two values\n",
        "\n",
        "L.remove(40)\n",
        "\n",
        "print(L)\n",
        "\n",
        "\n",
        "#deletes the number by index or deletes last number if not specified\n",
        "L.pop(0)\n",
        "\n",
        "print(L)\n",
        "\n",
        "del L[1:3]\n",
        "\n",
        "print(L)"
      ],
      "metadata": {
        "colab": {
          "base_uri": "https://localhost:8080/"
        },
        "id": "_keqTV-i_K5_",
        "outputId": "49c1561c-52d9-44e6-cfe6-0a0b12c3936a"
      },
      "execution_count": 2,
      "outputs": [
        {
          "output_type": "stream",
          "name": "stdout",
          "text": [
            "[1, 3, 4, 5, 7]\n",
            "[1, 3, 4, 5, 7, 40]\n",
            "[8, 3, 4, 5, 7, 40]\n",
            "[8, 3, 4, 5, 7]\n",
            "[3, 4, 5, 7]\n",
            "[3, 7]\n"
          ]
        }
      ]
    },
    {
      "cell_type": "code",
      "source": [
        "#LIST METHODS\n",
        "\n",
        "#finds length\n",
        "l=[1,2,3,4,5,6,7,8,9,0]\n",
        "print(len(l)) #9\n",
        "\n",
        "#add 2 lists\n",
        "l2=[10,11,12]\n",
        "print(l+l2)\n",
        "\n",
        "#repeats elements 2 times\n",
        "print(l2*2)\n",
        "#one value should be integer\n",
        "#print(l*l2)\n",
        "\n",
        "#Prints True or False\n",
        "print(1 in l)\n",
        "\n",
        "print(10 in l)\n",
        "\n",
        "#max in a list\n",
        "print(max(l))\n",
        "#max of the list\n",
        "print(max(l,l2))\n",
        "#max of 2 list\n",
        "print(max(l+l2))\n",
        "#min and max\n",
        "\n",
        "#prints sum\n",
        "print(sum(l+l2))\n",
        "\n",
        "#if there is no 0 in list then it prints True\n",
        "print(all(l))\n",
        "\n",
        "#if there are all 0 in list then it prints false\n",
        "print(any(l))\n",
        "\n",
        "#converts string to array\n",
        "l3='hello'\n",
        "print(list(l3))\n",
        "#prints in alphabetical order\n",
        "print(sorted(l3))"
      ],
      "metadata": {
        "colab": {
          "base_uri": "https://localhost:8080/"
        },
        "id": "b9ZcIixU_WL-",
        "outputId": "95c49ca1-6c6d-4ec5-b2b8-0f8efba4ce53"
      },
      "execution_count": 4,
      "outputs": [
        {
          "output_type": "stream",
          "name": "stdout",
          "text": [
            "10\n",
            "[1, 2, 3, 4, 5, 6, 7, 8, 9, 0, 10, 11, 12]\n",
            "[10, 11, 12, 10, 11, 12]\n",
            "True\n",
            "False\n",
            "9\n",
            "[10, 11, 12]\n",
            "12\n",
            "78\n",
            "False\n",
            "True\n",
            "['h', 'e', 'l', 'l', 'o']\n",
            "['e', 'h', 'l', 'l', 'o']\n"
          ]
        }
      ]
    },
    {
      "cell_type": "code",
      "source": [
        "#LIST METHODS -2\n",
        "\n",
        "#append only adds only one value at only end\n",
        "l=[1,2,3,4,5]\n",
        "l.append(60)\n",
        "print(l)\n",
        "\n",
        "\n",
        "#can add more than 2 values at only end\n",
        "l.extend([70,80])\n",
        "print(l)\n",
        "\n",
        "#insert can place value at any place by making list move \n",
        "l.insert(0,900)\n",
        "print(l) \n",
        "\n",
        "##Removes only value not index \n",
        "#if there are two values then only first one will be removed\n",
        "#can't remove more than two values\n",
        "l.remove(900)\n",
        "print(l)\n",
        "\n",
        "#deletes the number by index or deletes last number if not specified\n",
        "l.pop(0)\n",
        "print(l)\n",
        "\n",
        "\n",
        "#count and index\n",
        "j=[2,2,2,6,45]\n",
        "print(j.count(2))\n",
        "print(j.index(45))\n",
        "\n",
        "#reverse the string\n",
        "j.reverse()\n",
        "print(j)\n",
        "\n",
        "\n",
        "#short prints ascending order \n",
        "k=[1,9,8,2,2,3,5]\n",
        "k.sort()\n",
        "print(k)\n",
        "\n",
        "#to print descending order\n",
        "#To sort descending, use the keyword argument reverse = True"
      ],
      "metadata": {
        "colab": {
          "base_uri": "https://localhost:8080/"
        },
        "id": "OSTEUgeH_WCO",
        "outputId": "1c7fc9da-9bd1-4112-885a-1cd66b04da11"
      },
      "execution_count": 6,
      "outputs": [
        {
          "output_type": "stream",
          "name": "stdout",
          "text": [
            "[1, 2, 3, 4, 5, 60]\n",
            "[1, 2, 3, 4, 5, 60, 70, 80]\n",
            "[900, 1, 2, 3, 4, 5, 60, 70, 80]\n",
            "[1, 2, 3, 4, 5, 60, 70, 80]\n",
            "[2, 3, 4, 5, 60, 70, 80]\n",
            "3\n",
            "4\n",
            "[45, 6, 2, 2, 2]\n",
            "[1, 2, 2, 3, 5, 8, 9]\n"
          ]
        }
      ]
    },
    {
      "cell_type": "markdown",
      "source": [
        "**Nested List**"
      ],
      "metadata": {
        "id": "5KBVA19lm9f6"
      }
    },
    {
      "cell_type": "code",
      "execution_count": null,
      "metadata": {
        "colab": {
          "base_uri": "https://localhost:8080/"
        },
        "id": "LvmuC-DQlwkh",
        "outputId": "7a55641b-405d-41ef-b9ed-1c1158a41ea9"
      },
      "outputs": [
        {
          "output_type": "stream",
          "name": "stdout",
          "text": [
            "2\n",
            "[[1, 2], [3, 4]]\n",
            "[1, 2]\n",
            "1\n"
          ]
        }
      ],
      "source": [
        "l=[[[1,2],[3,4]],[[5,6],[7,8]]]\n",
        "print(len(l))\n",
        "print(l[0])\n",
        "print(l[0][0])\n",
        "print(l[0][0][0])"
      ]
    },
    {
      "cell_type": "markdown",
      "source": [
        "**List comprehension**"
      ],
      "metadata": {
        "id": "s_CIa7E8nDKH"
      }
    },
    {
      "cell_type": "code",
      "source": [
        "#Printing cube of numbers\n",
        "l=[]\n",
        "for i in range(1,11):\n",
        "  l.append(i**3)\n",
        "print(l)"
      ],
      "metadata": {
        "colab": {
          "base_uri": "https://localhost:8080/"
        },
        "id": "AMBsa6hznDbw",
        "outputId": "7f8184bd-b6af-49f0-fc87-3d83b5b4c636"
      },
      "execution_count": null,
      "outputs": [
        {
          "output_type": "stream",
          "name": "stdout",
          "text": [
            "[1, 8, 27, 64, 125, 216, 343, 512, 729, 1000]\n"
          ]
        }
      ]
    },
    {
      "cell_type": "code",
      "source": [
        "#One line code \n",
        "n=int(input())\n",
        "l=[i**3 for i in range(1,n+1)]  # first expresion must\n",
        "print(l)"
      ],
      "metadata": {
        "colab": {
          "base_uri": "https://localhost:8080/"
        },
        "id": "nwicrMR9stBN",
        "outputId": "40f3dd70-b32c-434d-ffdf-67b22e5036b5"
      },
      "execution_count": null,
      "outputs": [
        {
          "output_type": "stream",
          "name": "stdout",
          "text": [
            "10\n",
            "[1, 8, 27, 64, 125, 216, 343, 512, 729, 1000]\n"
          ]
        }
      ]
    },
    {
      "cell_type": "code",
      "source": [
        "#Even numbers\n",
        "#newlist = [expression for item in iterable if condition == True]\n",
        "n=int(input())\n",
        "l=[i for i in range (1,n+1) if i%2==0]\n",
        "print(l)"
      ],
      "metadata": {
        "colab": {
          "base_uri": "https://localhost:8080/"
        },
        "id": "fbkRXcDntW2x",
        "outputId": "0219abe9-ae6d-4eb5-969d-789d38325a3a"
      },
      "execution_count": null,
      "outputs": [
        {
          "output_type": "stream",
          "name": "stdout",
          "text": [
            "10\n",
            "[2, 4, 6, 8, 10]\n"
          ]
        }
      ]
    },
    {
      "cell_type": "markdown",
      "source": [
        "**TUPLES**"
      ],
      "metadata": {
        "id": "Zw_9evcnu76_"
      }
    },
    {
      "cell_type": "code",
      "source": [
        ""
      ],
      "metadata": {
        "id": "lHSQxTMwtXAv"
      },
      "execution_count": null,
      "outputs": []
    }
  ]
}